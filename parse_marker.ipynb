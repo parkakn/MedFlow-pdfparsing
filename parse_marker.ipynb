{
 "cells": [
  {
   "cell_type": "markdown",
   "metadata": {},
   "source": [
    "### Pdf parsing with open-source package, **Marker** "
   ]
  },
  {
   "cell_type": "markdown",
   "metadata": {},
   "source": [
    "https://github.com/VikParuchuri/marker/tree/master\n",
    "\n",
    "https://www.youtube.com/watch?v=mdLBr9IMmgI"
   ]
  },
  {
   "cell_type": "code",
   "execution_count": 1,
   "metadata": {},
   "outputs": [
    {
     "name": "stderr",
     "output_type": "stream",
     "text": [
      "/home/ewp/MIT Media Lab_Linux/prg-medial-llm-w-yubin/marker_env/lib/python3.10/site-packages/tqdm/auto.py:21: TqdmWarning: IProgress not found. Please update jupyter and ipywidgets. See https://ipywidgets.readthedocs.io/en/stable/user_install.html\n",
      "  from .autonotebook import tqdm as notebook_tqdm\n"
     ]
    }
   ],
   "source": [
    "from marker.convert import convert_single_pdf\n",
    "from marker.models import load_all_models"
   ]
  },
  {
   "cell_type": "code",
   "execution_count": 2,
   "metadata": {},
   "outputs": [],
   "source": [
    "import glob"
   ]
  },
  {
   "cell_type": "code",
   "execution_count": 3,
   "metadata": {},
   "outputs": [],
   "source": [
    "content = glob.glob(\"content/*.pdf\")  "
   ]
  },
  {
   "cell_type": "code",
   "execution_count": 4,
   "metadata": {},
   "outputs": [
    {
     "data": {
      "text/plain": [
       "['content/case1.pdf',\n",
       " 'content/case4.pdf',\n",
       " 'content/case2.pdf',\n",
       " 'content/case3.pdf']"
      ]
     },
     "execution_count": 4,
     "metadata": {},
     "output_type": "execute_result"
    }
   ],
   "source": [
    "content"
   ]
  },
  {
   "cell_type": "code",
   "execution_count": 5,
   "metadata": {},
   "outputs": [
    {
     "name": "stdout",
     "output_type": "stream",
     "text": [
      "Loaded detection model vikp/surya_det3 on device cpu with dtype torch.float32\n",
      "Loaded detection model vikp/surya_layout3 on device cpu with dtype torch.float32\n",
      "Loaded reading order model vikp/surya_order on device cpu with dtype torch.float32\n",
      "Loaded recognition model vikp/surya_rec2 on device cpu with dtype torch.float32\n",
      "Loaded texify model to cpu with torch.float32 dtype\n",
      "Loaded recognition model vikp/surya_tablerec on device cpu with dtype torch.float32\n"
     ]
    }
   ],
   "source": [
    "model_lst = load_all_models()"
   ]
  },
  {
   "cell_type": "code",
   "execution_count": 6,
   "metadata": {},
   "outputs": [
    {
     "name": "stderr",
     "output_type": "stream",
     "text": [
      "Detecting bboxes: 100%|██████████| 2/2 [00:23<00:00, 11.98s/it]\n",
      "Detecting bboxes: 100%|██████████| 2/2 [00:12<00:00,  6.39s/it]\n",
      "Finding reading order: 100%|██████████| 2/2 [00:32<00:00, 16.48s/it]\n",
      "Recognizing tables: 100%|██████████| 1/1 [00:13<00:00, 13.02s/it]\n"
     ]
    }
   ],
   "source": [
    "fpath = content[-1]\n",
    "full_text, images, out_meta = convert_single_pdf(fpath, model_lst)"
   ]
  },
  {
   "cell_type": "code",
   "execution_count": 7,
   "metadata": {},
   "outputs": [],
   "source": [
    "import os"
   ]
  },
  {
   "cell_type": "code",
   "execution_count": 8,
   "metadata": {},
   "outputs": [],
   "source": [
    "base_name = os.path.splitext(os.path.basename(content[0]))[0]"
   ]
  },
  {
   "cell_type": "code",
   "execution_count": 9,
   "metadata": {},
   "outputs": [
    {
     "data": {
      "text/plain": [
       "'case1'"
      ]
     },
     "execution_count": 9,
     "metadata": {},
     "output_type": "execute_result"
    }
   ],
   "source": [
    "base_name"
   ]
  },
  {
   "cell_type": "code",
   "execution_count": 10,
   "metadata": {},
   "outputs": [
    {
     "name": "stdout",
     "output_type": "stream",
     "text": [
      "Text saved to output_text_case3.txt and output_text_case3.md\n"
     ]
    }
   ],
   "source": [
    "# Specify the file name and path\n",
    "output_file_txt = 'output_text_case3.txt'\n",
    "output_file_md = 'output_text_case3.md'\n",
    "\n",
    "# Save as .txt file\n",
    "with open(output_file_txt, 'w') as txt_file:\n",
    "    txt_file.write(full_text)\n",
    "\n",
    "# Save as .md file\n",
    "with open(output_file_md, 'w') as md_file:\n",
    "    md_file.write(full_text)\n",
    "\n",
    "print(f\"Text saved to {output_file_txt} and {output_file_md}\")"
   ]
  },
  {
   "cell_type": "code",
   "execution_count": 12,
   "metadata": {},
   "outputs": [],
   "source": [
    "import os"
   ]
  },
  {
   "cell_type": "code",
   "execution_count": 13,
   "metadata": {},
   "outputs": [
    {
     "name": "stdout",
     "output_type": "stream",
     "text": [
      "Images saved to output_images_case3\n"
     ]
    }
   ],
   "source": [
    "# Directory to save the images\n",
    "output_dir = 'output_images_case3'\n",
    "\n",
    "# Create the directory if it doesn't exist\n",
    "os.makedirs(output_dir, exist_ok=True)\n",
    "\n",
    "# Save each image to the specified folder\n",
    "for filename, image in images.items():\n",
    "    image.save(os.path.join(output_dir, filename))\n",
    "\n",
    "print(f\"Images saved to {output_dir}\")"
   ]
  }
 ],
 "metadata": {
  "kernelspec": {
   "display_name": "marker_env",
   "language": "python",
   "name": "python3"
  },
  "language_info": {
   "codemirror_mode": {
    "name": "ipython",
    "version": 3
   },
   "file_extension": ".py",
   "mimetype": "text/x-python",
   "name": "python",
   "nbconvert_exporter": "python",
   "pygments_lexer": "ipython3",
   "version": "3.10.12"
  }
 },
 "nbformat": 4,
 "nbformat_minor": 2
}
